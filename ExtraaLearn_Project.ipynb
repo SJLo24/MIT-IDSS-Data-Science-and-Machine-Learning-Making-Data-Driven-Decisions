{
 "cells": [
  {
   "cell_type": "markdown",
   "id": "64ee8e3a",
   "metadata": {
    "id": "AT5OogJVFbwu"
   },
   "source": [
    "# ExtraaLearn Project\n",
    "\n",
    "## Context\n",
    "\n",
    "The EdTech industry has been surging in the past decade immensely, and according to a forecast, the Online Education market would be worth $286.62bn by 2023 with a compound annual growth rate (CAGR) of 10.26% from 2018 to 2023. The modern era of online education has enforced a lot in its growth and expansion beyond any limit. Due to having many dominant features like ease of information sharing, personalized learning experience, transparency of assessment, etc, it is now preferable to traditional education. \n",
    "\n",
    "In the present scenario due to the Covid-19, the online education sector has witnessed rapid growth and is attracting a lot of new customers. Due to this rapid growth, many new companies have emerged in this industry. With the availability and ease of use of digital marketing resources, companies can reach out to a wider audience with their offerings. The customers who show interest in these offerings are termed as leads. There are various sources of obtaining leads for Edtech companies, like\n",
    "\n",
    "* The customer interacts with the marketing front on social media or other online platforms. \n",
    "* The customer browses the website/app and downloads the brochure\n",
    "* The customer connects through emails for more information.\n",
    "\n",
    "The company then nurtures these leads and tries to convert them to paid customers. For this, the representative from the organization connects with the lead on call or through email to share further details.\n",
    "\n",
    "## Objective\n",
    "\n",
    "ExtraaLearn is an initial stage startup that offers programs on cutting-edge technologies to students and professionals to help them upskill/reskill. With a large number of leads being generated on a regular basis, one of the issues faced by ExtraaLearn is to identify which of the leads are more likely to convert so that they can allocate resources accordingly. You, as a data scientist at ExtraaLearn, have been provided the leads data to:\n",
    "* Analyze and build an ML model to help identify which leads are more likely to convert to paid customers, \n",
    "* Find the factors driving the lead conversion process\n",
    "* Create a profile of the leads which are likely to convert\n",
    "\n",
    "\n",
    "## Data Description\n",
    "\n",
    "The data contains the different attributes of leads and their interaction details with ExtraaLearn. The detailed data dictionary is given below.\n",
    "\n",
    "\n",
    "**Data Dictionary**\n",
    "* ID: ID of the lead\n",
    "* age: Age of the lead\n",
    "* current_occupation: Current occupation of the lead. Values include 'Professional','Unemployed',and 'Student'\n",
    "* first_interaction: How did the lead first interacted with ExtraaLearn. Values include 'Website', 'Mobile App'\n",
    "* profile_completed: What percentage of profile has been filled by the lead on the website/mobile app. Values include Low - (0-50%), Medium - (50-75%), High (75-100%)\n",
    "* website_visits: How many times has a lead visited the website\n",
    "* time_spent_on_website: Total time spent on the website\n",
    "* page_views_per_visit: Average number of pages on the website viewed during the visits.\n",
    "* last_activity: Last interaction between the lead and ExtraaLearn. \n",
    "    * Email Activity: Seeking for details about program through email, Representative shared information with lead like brochure of program , etc \n",
    "    * Phone Activity: Had a Phone Conversation with representative, Had conversation over SMS with representative, etc\n",
    "    * Website Activity: Interacted on live chat with representative, Updated profile on website, etc\n",
    "\n",
    "* print_media_type1: Flag indicating whether the lead had seen the ad of ExtraaLearn in the Newspaper.\n",
    "* print_media_type2: Flag indicating whether the lead had seen the ad of ExtraaLearn in the Magazine.\n",
    "* digital_media: Flag indicating whether the lead had seen the ad of ExtraaLearn on the digital platforms.\n",
    "* educational_channels: Flag indicating whether the lead had heard about ExtraaLearn in the education channels like online forums, discussion threads, educational websites, etc.\n",
    "* referral: Flag indicating whether the lead had heard about ExtraaLearn through reference.\n",
    "* status: Flag indicating whether the lead was converted to a paid customer or not."
   ]
  },
  {
   "cell_type": "markdown",
   "id": "c42dd764",
   "metadata": {
    "id": "dirty-island"
   },
   "source": [
    "## Importing necessary libraries and data"
   ]
  },
  {
   "cell_type": "code",
   "execution_count": 1,
   "id": "c07bb38a",
   "metadata": {
    "id": "statewide-still"
   },
   "outputs": [],
   "source": [
    "import pandas as pd\n",
    "import numpy as np\n",
    "import matplotlib.pyplot as plt\n",
    "import seaborn as sns\n",
    "\n",
    "from sklearn.preprocessing import StandardScaler\n",
    "from sklearn.model_selection import train_test_split\n",
    "\n",
    "from sklearn.tree import DecisionTreeClassifier\n",
    "from sklearn.ensemble import RandomForestClassifier\n",
    "\n",
    "from sklearn import metrics\n",
    "from sklearn.metrics import classification_report, recall_score\n",
    "from sklearn import tree\n",
    "\n",
    "from sklearn.model_selection import GridSearchCV\n",
    "\n",
    "import warnings\n",
    "warnings.filterwarnings(\"ignore\")"
   ]
  },
  {
   "cell_type": "markdown",
   "id": "df3dae9e",
   "metadata": {
    "id": "desperate-infection"
   },
   "source": [
    "## Data Overview\n",
    "\n",
    "- Observations\n",
    "- Sanity checks"
   ]
  },
  {
   "cell_type": "code",
   "execution_count": 2,
   "id": "f8fd360d",
   "metadata": {},
   "outputs": [],
   "source": [
    "pd.set_option('max_column', None)"
   ]
  },
  {
   "cell_type": "code",
   "execution_count": 3,
   "id": "ccafec1d",
   "metadata": {
    "id": "persistent-juice"
   },
   "outputs": [
    {
     "data": {
      "text/html": [
       "<div>\n",
       "<style scoped>\n",
       "    .dataframe tbody tr th:only-of-type {\n",
       "        vertical-align: middle;\n",
       "    }\n",
       "\n",
       "    .dataframe tbody tr th {\n",
       "        vertical-align: top;\n",
       "    }\n",
       "\n",
       "    .dataframe thead th {\n",
       "        text-align: right;\n",
       "    }\n",
       "</style>\n",
       "<table border=\"1\" class=\"dataframe\">\n",
       "  <thead>\n",
       "    <tr style=\"text-align: right;\">\n",
       "      <th></th>\n",
       "      <th>ID</th>\n",
       "      <th>age</th>\n",
       "      <th>current_occupation</th>\n",
       "      <th>first_interaction</th>\n",
       "      <th>profile_completed</th>\n",
       "      <th>website_visits</th>\n",
       "      <th>time_spent_on_website</th>\n",
       "      <th>page_views_per_visit</th>\n",
       "      <th>last_activity</th>\n",
       "      <th>print_media_type1</th>\n",
       "      <th>print_media_type2</th>\n",
       "      <th>digital_media</th>\n",
       "      <th>educational_channels</th>\n",
       "      <th>referral</th>\n",
       "      <th>status</th>\n",
       "    </tr>\n",
       "  </thead>\n",
       "  <tbody>\n",
       "    <tr>\n",
       "      <th>0</th>\n",
       "      <td>EXT001</td>\n",
       "      <td>57</td>\n",
       "      <td>Unemployed</td>\n",
       "      <td>Website</td>\n",
       "      <td>High</td>\n",
       "      <td>7</td>\n",
       "      <td>1639</td>\n",
       "      <td>1.861</td>\n",
       "      <td>Website Activity</td>\n",
       "      <td>Yes</td>\n",
       "      <td>No</td>\n",
       "      <td>Yes</td>\n",
       "      <td>No</td>\n",
       "      <td>No</td>\n",
       "      <td>1</td>\n",
       "    </tr>\n",
       "    <tr>\n",
       "      <th>1</th>\n",
       "      <td>EXT002</td>\n",
       "      <td>56</td>\n",
       "      <td>Professional</td>\n",
       "      <td>Mobile App</td>\n",
       "      <td>Medium</td>\n",
       "      <td>2</td>\n",
       "      <td>83</td>\n",
       "      <td>0.320</td>\n",
       "      <td>Website Activity</td>\n",
       "      <td>No</td>\n",
       "      <td>No</td>\n",
       "      <td>No</td>\n",
       "      <td>Yes</td>\n",
       "      <td>No</td>\n",
       "      <td>0</td>\n",
       "    </tr>\n",
       "    <tr>\n",
       "      <th>2</th>\n",
       "      <td>EXT003</td>\n",
       "      <td>52</td>\n",
       "      <td>Professional</td>\n",
       "      <td>Website</td>\n",
       "      <td>Medium</td>\n",
       "      <td>3</td>\n",
       "      <td>330</td>\n",
       "      <td>0.074</td>\n",
       "      <td>Website Activity</td>\n",
       "      <td>No</td>\n",
       "      <td>No</td>\n",
       "      <td>Yes</td>\n",
       "      <td>No</td>\n",
       "      <td>No</td>\n",
       "      <td>0</td>\n",
       "    </tr>\n",
       "    <tr>\n",
       "      <th>3</th>\n",
       "      <td>EXT004</td>\n",
       "      <td>53</td>\n",
       "      <td>Unemployed</td>\n",
       "      <td>Website</td>\n",
       "      <td>High</td>\n",
       "      <td>4</td>\n",
       "      <td>464</td>\n",
       "      <td>2.057</td>\n",
       "      <td>Website Activity</td>\n",
       "      <td>No</td>\n",
       "      <td>No</td>\n",
       "      <td>No</td>\n",
       "      <td>No</td>\n",
       "      <td>No</td>\n",
       "      <td>1</td>\n",
       "    </tr>\n",
       "    <tr>\n",
       "      <th>4</th>\n",
       "      <td>EXT005</td>\n",
       "      <td>23</td>\n",
       "      <td>Student</td>\n",
       "      <td>Website</td>\n",
       "      <td>High</td>\n",
       "      <td>4</td>\n",
       "      <td>600</td>\n",
       "      <td>16.914</td>\n",
       "      <td>Email Activity</td>\n",
       "      <td>No</td>\n",
       "      <td>No</td>\n",
       "      <td>No</td>\n",
       "      <td>No</td>\n",
       "      <td>No</td>\n",
       "      <td>0</td>\n",
       "    </tr>\n",
       "    <tr>\n",
       "      <th>...</th>\n",
       "      <td>...</td>\n",
       "      <td>...</td>\n",
       "      <td>...</td>\n",
       "      <td>...</td>\n",
       "      <td>...</td>\n",
       "      <td>...</td>\n",
       "      <td>...</td>\n",
       "      <td>...</td>\n",
       "      <td>...</td>\n",
       "      <td>...</td>\n",
       "      <td>...</td>\n",
       "      <td>...</td>\n",
       "      <td>...</td>\n",
       "      <td>...</td>\n",
       "      <td>...</td>\n",
       "    </tr>\n",
       "    <tr>\n",
       "      <th>4607</th>\n",
       "      <td>EXT4608</td>\n",
       "      <td>35</td>\n",
       "      <td>Unemployed</td>\n",
       "      <td>Mobile App</td>\n",
       "      <td>Medium</td>\n",
       "      <td>15</td>\n",
       "      <td>360</td>\n",
       "      <td>2.170</td>\n",
       "      <td>Phone Activity</td>\n",
       "      <td>No</td>\n",
       "      <td>No</td>\n",
       "      <td>No</td>\n",
       "      <td>Yes</td>\n",
       "      <td>No</td>\n",
       "      <td>0</td>\n",
       "    </tr>\n",
       "    <tr>\n",
       "      <th>4608</th>\n",
       "      <td>EXT4609</td>\n",
       "      <td>55</td>\n",
       "      <td>Professional</td>\n",
       "      <td>Mobile App</td>\n",
       "      <td>Medium</td>\n",
       "      <td>8</td>\n",
       "      <td>2327</td>\n",
       "      <td>5.393</td>\n",
       "      <td>Email Activity</td>\n",
       "      <td>No</td>\n",
       "      <td>No</td>\n",
       "      <td>No</td>\n",
       "      <td>No</td>\n",
       "      <td>No</td>\n",
       "      <td>0</td>\n",
       "    </tr>\n",
       "    <tr>\n",
       "      <th>4609</th>\n",
       "      <td>EXT4610</td>\n",
       "      <td>58</td>\n",
       "      <td>Professional</td>\n",
       "      <td>Website</td>\n",
       "      <td>High</td>\n",
       "      <td>2</td>\n",
       "      <td>212</td>\n",
       "      <td>2.692</td>\n",
       "      <td>Email Activity</td>\n",
       "      <td>No</td>\n",
       "      <td>No</td>\n",
       "      <td>No</td>\n",
       "      <td>No</td>\n",
       "      <td>No</td>\n",
       "      <td>1</td>\n",
       "    </tr>\n",
       "    <tr>\n",
       "      <th>4610</th>\n",
       "      <td>EXT4611</td>\n",
       "      <td>57</td>\n",
       "      <td>Professional</td>\n",
       "      <td>Mobile App</td>\n",
       "      <td>Medium</td>\n",
       "      <td>1</td>\n",
       "      <td>154</td>\n",
       "      <td>3.879</td>\n",
       "      <td>Website Activity</td>\n",
       "      <td>Yes</td>\n",
       "      <td>No</td>\n",
       "      <td>No</td>\n",
       "      <td>No</td>\n",
       "      <td>No</td>\n",
       "      <td>0</td>\n",
       "    </tr>\n",
       "    <tr>\n",
       "      <th>4611</th>\n",
       "      <td>EXT4612</td>\n",
       "      <td>55</td>\n",
       "      <td>Professional</td>\n",
       "      <td>Website</td>\n",
       "      <td>Medium</td>\n",
       "      <td>4</td>\n",
       "      <td>2290</td>\n",
       "      <td>2.075</td>\n",
       "      <td>Phone Activity</td>\n",
       "      <td>No</td>\n",
       "      <td>No</td>\n",
       "      <td>No</td>\n",
       "      <td>No</td>\n",
       "      <td>No</td>\n",
       "      <td>0</td>\n",
       "    </tr>\n",
       "  </tbody>\n",
       "</table>\n",
       "<p>4612 rows × 15 columns</p>\n",
       "</div>"
      ],
      "text/plain": [
       "           ID  age current_occupation first_interaction profile_completed  \\\n",
       "0      EXT001   57         Unemployed           Website              High   \n",
       "1      EXT002   56       Professional        Mobile App            Medium   \n",
       "2      EXT003   52       Professional           Website            Medium   \n",
       "3      EXT004   53         Unemployed           Website              High   \n",
       "4      EXT005   23            Student           Website              High   \n",
       "...       ...  ...                ...               ...               ...   \n",
       "4607  EXT4608   35         Unemployed        Mobile App            Medium   \n",
       "4608  EXT4609   55       Professional        Mobile App            Medium   \n",
       "4609  EXT4610   58       Professional           Website              High   \n",
       "4610  EXT4611   57       Professional        Mobile App            Medium   \n",
       "4611  EXT4612   55       Professional           Website            Medium   \n",
       "\n",
       "      website_visits  time_spent_on_website  page_views_per_visit  \\\n",
       "0                  7                   1639                 1.861   \n",
       "1                  2                     83                 0.320   \n",
       "2                  3                    330                 0.074   \n",
       "3                  4                    464                 2.057   \n",
       "4                  4                    600                16.914   \n",
       "...              ...                    ...                   ...   \n",
       "4607              15                    360                 2.170   \n",
       "4608               8                   2327                 5.393   \n",
       "4609               2                    212                 2.692   \n",
       "4610               1                    154                 3.879   \n",
       "4611               4                   2290                 2.075   \n",
       "\n",
       "         last_activity print_media_type1 print_media_type2 digital_media  \\\n",
       "0     Website Activity               Yes                No           Yes   \n",
       "1     Website Activity                No                No            No   \n",
       "2     Website Activity                No                No           Yes   \n",
       "3     Website Activity                No                No            No   \n",
       "4       Email Activity                No                No            No   \n",
       "...                ...               ...               ...           ...   \n",
       "4607    Phone Activity                No                No            No   \n",
       "4608    Email Activity                No                No            No   \n",
       "4609    Email Activity                No                No            No   \n",
       "4610  Website Activity               Yes                No            No   \n",
       "4611    Phone Activity                No                No            No   \n",
       "\n",
       "     educational_channels referral  status  \n",
       "0                      No       No       1  \n",
       "1                     Yes       No       0  \n",
       "2                      No       No       0  \n",
       "3                      No       No       1  \n",
       "4                      No       No       0  \n",
       "...                   ...      ...     ...  \n",
       "4607                  Yes       No       0  \n",
       "4608                   No       No       0  \n",
       "4609                   No       No       1  \n",
       "4610                   No       No       0  \n",
       "4611                   No       No       0  \n",
       "\n",
       "[4612 rows x 15 columns]"
      ]
     },
     "execution_count": 3,
     "metadata": {},
     "output_type": "execute_result"
    }
   ],
   "source": [
    "df = pd.read_csv('ExtraaLearn.csv')\n",
    "df"
   ]
  },
  {
   "cell_type": "code",
   "execution_count": 4,
   "id": "efe4c074",
   "metadata": {},
   "outputs": [
    {
     "data": {
      "text/plain": [
       "ID                       4612\n",
       "age                        46\n",
       "current_occupation          3\n",
       "first_interaction           2\n",
       "profile_completed           3\n",
       "website_visits             27\n",
       "time_spent_on_website    1623\n",
       "page_views_per_visit     2414\n",
       "last_activity               3\n",
       "print_media_type1           2\n",
       "print_media_type2           2\n",
       "digital_media               2\n",
       "educational_channels        2\n",
       "referral                    2\n",
       "status                      2\n",
       "dtype: int64"
      ]
     },
     "execution_count": 4,
     "metadata": {},
     "output_type": "execute_result"
    }
   ],
   "source": [
    "df.nunique()"
   ]
  },
  {
   "cell_type": "markdown",
   "id": "78c1181f",
   "metadata": {},
   "source": [
    "Observations\n",
    "- All data point contains unique ID.\n",
    "- Age, website_visits, time_spent_on_website and page_views_per_visit contains continous values.\n",
    "- Others are categorical variables."
   ]
  },
  {
   "cell_type": "code",
   "execution_count": 5,
   "id": "93937c79",
   "metadata": {},
   "outputs": [
    {
     "name": "stdout",
     "output_type": "stream",
     "text": [
      "<class 'pandas.core.frame.DataFrame'>\n",
      "RangeIndex: 4612 entries, 0 to 4611\n",
      "Data columns (total 15 columns):\n",
      " #   Column                 Non-Null Count  Dtype  \n",
      "---  ------                 --------------  -----  \n",
      " 0   ID                     4612 non-null   object \n",
      " 1   age                    4612 non-null   int64  \n",
      " 2   current_occupation     4612 non-null   object \n",
      " 3   first_interaction      4612 non-null   object \n",
      " 4   profile_completed      4612 non-null   object \n",
      " 5   website_visits         4612 non-null   int64  \n",
      " 6   time_spent_on_website  4612 non-null   int64  \n",
      " 7   page_views_per_visit   4612 non-null   float64\n",
      " 8   last_activity          4612 non-null   object \n",
      " 9   print_media_type1      4612 non-null   object \n",
      " 10  print_media_type2      4612 non-null   object \n",
      " 11  digital_media          4612 non-null   object \n",
      " 12  educational_channels   4612 non-null   object \n",
      " 13  referral               4612 non-null   object \n",
      " 14  status                 4612 non-null   int64  \n",
      "dtypes: float64(1), int64(4), object(10)\n",
      "memory usage: 360.4+ KB\n"
     ]
    }
   ],
   "source": [
    "df.info()"
   ]
  },
  {
   "cell_type": "markdown",
   "id": "60f2b883",
   "metadata": {},
   "source": [
    "Observations\n",
    "- There is no missing value in all the columns."
   ]
  },
  {
   "cell_type": "code",
   "execution_count": 6,
   "id": "4238d22e",
   "metadata": {},
   "outputs": [
    {
     "data": {
      "text/html": [
       "<div>\n",
       "<style scoped>\n",
       "    .dataframe tbody tr th:only-of-type {\n",
       "        vertical-align: middle;\n",
       "    }\n",
       "\n",
       "    .dataframe tbody tr th {\n",
       "        vertical-align: top;\n",
       "    }\n",
       "\n",
       "    .dataframe thead th {\n",
       "        text-align: right;\n",
       "    }\n",
       "</style>\n",
       "<table border=\"1\" class=\"dataframe\">\n",
       "  <thead>\n",
       "    <tr style=\"text-align: right;\">\n",
       "      <th></th>\n",
       "      <th>age</th>\n",
       "      <th>current_occupation</th>\n",
       "      <th>first_interaction</th>\n",
       "      <th>profile_completed</th>\n",
       "      <th>website_visits</th>\n",
       "      <th>time_spent_on_website</th>\n",
       "      <th>page_views_per_visit</th>\n",
       "      <th>last_activity</th>\n",
       "      <th>print_media_type1</th>\n",
       "      <th>print_media_type2</th>\n",
       "      <th>digital_media</th>\n",
       "      <th>educational_channels</th>\n",
       "      <th>referral</th>\n",
       "      <th>status</th>\n",
       "    </tr>\n",
       "  </thead>\n",
       "  <tbody>\n",
       "    <tr>\n",
       "      <th>0</th>\n",
       "      <td>57</td>\n",
       "      <td>Unemployed</td>\n",
       "      <td>Website</td>\n",
       "      <td>High</td>\n",
       "      <td>7</td>\n",
       "      <td>1639</td>\n",
       "      <td>1.861</td>\n",
       "      <td>Website Activity</td>\n",
       "      <td>Yes</td>\n",
       "      <td>No</td>\n",
       "      <td>Yes</td>\n",
       "      <td>No</td>\n",
       "      <td>No</td>\n",
       "      <td>1</td>\n",
       "    </tr>\n",
       "    <tr>\n",
       "      <th>1</th>\n",
       "      <td>56</td>\n",
       "      <td>Professional</td>\n",
       "      <td>Mobile App</td>\n",
       "      <td>Medium</td>\n",
       "      <td>2</td>\n",
       "      <td>83</td>\n",
       "      <td>0.320</td>\n",
       "      <td>Website Activity</td>\n",
       "      <td>No</td>\n",
       "      <td>No</td>\n",
       "      <td>No</td>\n",
       "      <td>Yes</td>\n",
       "      <td>No</td>\n",
       "      <td>0</td>\n",
       "    </tr>\n",
       "    <tr>\n",
       "      <th>2</th>\n",
       "      <td>52</td>\n",
       "      <td>Professional</td>\n",
       "      <td>Website</td>\n",
       "      <td>Medium</td>\n",
       "      <td>3</td>\n",
       "      <td>330</td>\n",
       "      <td>0.074</td>\n",
       "      <td>Website Activity</td>\n",
       "      <td>No</td>\n",
       "      <td>No</td>\n",
       "      <td>Yes</td>\n",
       "      <td>No</td>\n",
       "      <td>No</td>\n",
       "      <td>0</td>\n",
       "    </tr>\n",
       "    <tr>\n",
       "      <th>3</th>\n",
       "      <td>53</td>\n",
       "      <td>Unemployed</td>\n",
       "      <td>Website</td>\n",
       "      <td>High</td>\n",
       "      <td>4</td>\n",
       "      <td>464</td>\n",
       "      <td>2.057</td>\n",
       "      <td>Website Activity</td>\n",
       "      <td>No</td>\n",
       "      <td>No</td>\n",
       "      <td>No</td>\n",
       "      <td>No</td>\n",
       "      <td>No</td>\n",
       "      <td>1</td>\n",
       "    </tr>\n",
       "    <tr>\n",
       "      <th>4</th>\n",
       "      <td>23</td>\n",
       "      <td>Student</td>\n",
       "      <td>Website</td>\n",
       "      <td>High</td>\n",
       "      <td>4</td>\n",
       "      <td>600</td>\n",
       "      <td>16.914</td>\n",
       "      <td>Email Activity</td>\n",
       "      <td>No</td>\n",
       "      <td>No</td>\n",
       "      <td>No</td>\n",
       "      <td>No</td>\n",
       "      <td>No</td>\n",
       "      <td>0</td>\n",
       "    </tr>\n",
       "  </tbody>\n",
       "</table>\n",
       "</div>"
      ],
      "text/plain": [
       "   age current_occupation first_interaction profile_completed  website_visits  \\\n",
       "0   57         Unemployed           Website              High               7   \n",
       "1   56       Professional        Mobile App            Medium               2   \n",
       "2   52       Professional           Website            Medium               3   \n",
       "3   53         Unemployed           Website              High               4   \n",
       "4   23            Student           Website              High               4   \n",
       "\n",
       "   time_spent_on_website  page_views_per_visit     last_activity  \\\n",
       "0                   1639                 1.861  Website Activity   \n",
       "1                     83                 0.320  Website Activity   \n",
       "2                    330                 0.074  Website Activity   \n",
       "3                    464                 2.057  Website Activity   \n",
       "4                    600                16.914    Email Activity   \n",
       "\n",
       "  print_media_type1 print_media_type2 digital_media educational_channels  \\\n",
       "0               Yes                No           Yes                   No   \n",
       "1                No                No            No                  Yes   \n",
       "2                No                No           Yes                   No   \n",
       "3                No                No            No                   No   \n",
       "4                No                No            No                   No   \n",
       "\n",
       "  referral  status  \n",
       "0       No       1  \n",
       "1       No       0  \n",
       "2       No       0  \n",
       "3       No       1  \n",
       "4       No       0  "
      ]
     },
     "execution_count": 6,
     "metadata": {},
     "output_type": "execute_result"
    }
   ],
   "source": [
    "# Removing 'ID' column\n",
    "df.drop('ID', axis=1, inplace=True)\n",
    "df.head()"
   ]
  },
  {
   "cell_type": "code",
   "execution_count": 7,
   "id": "466a3232",
   "metadata": {},
   "outputs": [
    {
     "data": {
      "text/html": [
       "<div>\n",
       "<style scoped>\n",
       "    .dataframe tbody tr th:only-of-type {\n",
       "        vertical-align: middle;\n",
       "    }\n",
       "\n",
       "    .dataframe tbody tr th {\n",
       "        vertical-align: top;\n",
       "    }\n",
       "\n",
       "    .dataframe thead th {\n",
       "        text-align: right;\n",
       "    }\n",
       "</style>\n",
       "<table border=\"1\" class=\"dataframe\">\n",
       "  <thead>\n",
       "    <tr style=\"text-align: right;\">\n",
       "      <th></th>\n",
       "      <th>age</th>\n",
       "      <th>website_visits</th>\n",
       "      <th>time_spent_on_website</th>\n",
       "      <th>page_views_per_visit</th>\n",
       "      <th>status</th>\n",
       "    </tr>\n",
       "  </thead>\n",
       "  <tbody>\n",
       "    <tr>\n",
       "      <th>count</th>\n",
       "      <td>4612.000000</td>\n",
       "      <td>4612.000000</td>\n",
       "      <td>4612.000000</td>\n",
       "      <td>4612.000000</td>\n",
       "      <td>4612.000000</td>\n",
       "    </tr>\n",
       "    <tr>\n",
       "      <th>mean</th>\n",
       "      <td>46.201214</td>\n",
       "      <td>3.566782</td>\n",
       "      <td>724.011275</td>\n",
       "      <td>3.026126</td>\n",
       "      <td>0.298569</td>\n",
       "    </tr>\n",
       "    <tr>\n",
       "      <th>std</th>\n",
       "      <td>13.161454</td>\n",
       "      <td>2.829134</td>\n",
       "      <td>743.828683</td>\n",
       "      <td>1.968125</td>\n",
       "      <td>0.457680</td>\n",
       "    </tr>\n",
       "    <tr>\n",
       "      <th>min</th>\n",
       "      <td>18.000000</td>\n",
       "      <td>0.000000</td>\n",
       "      <td>0.000000</td>\n",
       "      <td>0.000000</td>\n",
       "      <td>0.000000</td>\n",
       "    </tr>\n",
       "    <tr>\n",
       "      <th>25%</th>\n",
       "      <td>36.000000</td>\n",
       "      <td>2.000000</td>\n",
       "      <td>148.750000</td>\n",
       "      <td>2.077750</td>\n",
       "      <td>0.000000</td>\n",
       "    </tr>\n",
       "    <tr>\n",
       "      <th>50%</th>\n",
       "      <td>51.000000</td>\n",
       "      <td>3.000000</td>\n",
       "      <td>376.000000</td>\n",
       "      <td>2.792000</td>\n",
       "      <td>0.000000</td>\n",
       "    </tr>\n",
       "    <tr>\n",
       "      <th>75%</th>\n",
       "      <td>57.000000</td>\n",
       "      <td>5.000000</td>\n",
       "      <td>1336.750000</td>\n",
       "      <td>3.756250</td>\n",
       "      <td>1.000000</td>\n",
       "    </tr>\n",
       "    <tr>\n",
       "      <th>max</th>\n",
       "      <td>63.000000</td>\n",
       "      <td>30.000000</td>\n",
       "      <td>2537.000000</td>\n",
       "      <td>18.434000</td>\n",
       "      <td>1.000000</td>\n",
       "    </tr>\n",
       "  </tbody>\n",
       "</table>\n",
       "</div>"
      ],
      "text/plain": [
       "               age  website_visits  time_spent_on_website  \\\n",
       "count  4612.000000     4612.000000            4612.000000   \n",
       "mean     46.201214        3.566782             724.011275   \n",
       "std      13.161454        2.829134             743.828683   \n",
       "min      18.000000        0.000000               0.000000   \n",
       "25%      36.000000        2.000000             148.750000   \n",
       "50%      51.000000        3.000000             376.000000   \n",
       "75%      57.000000        5.000000            1336.750000   \n",
       "max      63.000000       30.000000            2537.000000   \n",
       "\n",
       "       page_views_per_visit       status  \n",
       "count           4612.000000  4612.000000  \n",
       "mean               3.026126     0.298569  \n",
       "std                1.968125     0.457680  \n",
       "min                0.000000     0.000000  \n",
       "25%                2.077750     0.000000  \n",
       "50%                2.792000     0.000000  \n",
       "75%                3.756250     1.000000  \n",
       "max               18.434000     1.000000  "
      ]
     },
     "execution_count": 7,
     "metadata": {},
     "output_type": "execute_result"
    }
   ],
   "source": [
    "df.describe()"
   ]
  },
  {
   "cell_type": "code",
   "execution_count": 8,
   "id": "2f7d2497",
   "metadata": {},
   "outputs": [
    {
     "data": {
      "text/html": [
       "<div>\n",
       "<style scoped>\n",
       "    .dataframe tbody tr th:only-of-type {\n",
       "        vertical-align: middle;\n",
       "    }\n",
       "\n",
       "    .dataframe tbody tr th {\n",
       "        vertical-align: top;\n",
       "    }\n",
       "\n",
       "    .dataframe thead th {\n",
       "        text-align: right;\n",
       "    }\n",
       "</style>\n",
       "<table border=\"1\" class=\"dataframe\">\n",
       "  <thead>\n",
       "    <tr style=\"text-align: right;\">\n",
       "      <th></th>\n",
       "      <th>current_occupation</th>\n",
       "      <th>first_interaction</th>\n",
       "      <th>profile_completed</th>\n",
       "      <th>last_activity</th>\n",
       "      <th>print_media_type1</th>\n",
       "      <th>print_media_type2</th>\n",
       "      <th>digital_media</th>\n",
       "      <th>educational_channels</th>\n",
       "      <th>referral</th>\n",
       "    </tr>\n",
       "  </thead>\n",
       "  <tbody>\n",
       "    <tr>\n",
       "      <th>count</th>\n",
       "      <td>4612</td>\n",
       "      <td>4612</td>\n",
       "      <td>4612</td>\n",
       "      <td>4612</td>\n",
       "      <td>4612</td>\n",
       "      <td>4612</td>\n",
       "      <td>4612</td>\n",
       "      <td>4612</td>\n",
       "      <td>4612</td>\n",
       "    </tr>\n",
       "    <tr>\n",
       "      <th>unique</th>\n",
       "      <td>3</td>\n",
       "      <td>2</td>\n",
       "      <td>3</td>\n",
       "      <td>3</td>\n",
       "      <td>2</td>\n",
       "      <td>2</td>\n",
       "      <td>2</td>\n",
       "      <td>2</td>\n",
       "      <td>2</td>\n",
       "    </tr>\n",
       "    <tr>\n",
       "      <th>top</th>\n",
       "      <td>Professional</td>\n",
       "      <td>Website</td>\n",
       "      <td>High</td>\n",
       "      <td>Email Activity</td>\n",
       "      <td>No</td>\n",
       "      <td>No</td>\n",
       "      <td>No</td>\n",
       "      <td>No</td>\n",
       "      <td>No</td>\n",
       "    </tr>\n",
       "    <tr>\n",
       "      <th>freq</th>\n",
       "      <td>2616</td>\n",
       "      <td>2542</td>\n",
       "      <td>2264</td>\n",
       "      <td>2278</td>\n",
       "      <td>4115</td>\n",
       "      <td>4379</td>\n",
       "      <td>4085</td>\n",
       "      <td>3907</td>\n",
       "      <td>4519</td>\n",
       "    </tr>\n",
       "  </tbody>\n",
       "</table>\n",
       "</div>"
      ],
      "text/plain": [
       "       current_occupation first_interaction profile_completed   last_activity  \\\n",
       "count                4612              4612              4612            4612   \n",
       "unique                  3                 2                 3               3   \n",
       "top          Professional           Website              High  Email Activity   \n",
       "freq                 2616              2542              2264            2278   \n",
       "\n",
       "       print_media_type1 print_media_type2 digital_media educational_channels  \\\n",
       "count               4612              4612          4612                 4612   \n",
       "unique                 2                 2             2                    2   \n",
       "top                   No                No            No                   No   \n",
       "freq                4115              4379          4085                 3907   \n",
       "\n",
       "       referral  \n",
       "count      4612  \n",
       "unique        2  \n",
       "top          No  \n",
       "freq       4519  "
      ]
     },
     "execution_count": 8,
     "metadata": {},
     "output_type": "execute_result"
    }
   ],
   "source": [
    "df.describe(include='object')"
   ]
  },
  {
   "cell_type": "markdown",
   "id": "8aa5f3c3",
   "metadata": {
    "id": "seasonal-calibration"
   },
   "source": [
    "## Exploratory Data Analysis (EDA)\n",
    "\n",
    "- EDA is an important part of any project involving data.\n",
    "- It is important to investigate and understand the data better before building a model with it.\n",
    "- A few questions have been mentioned below which will help you approach the analysis in the right manner and generate insights from the data.\n",
    "- A thorough analysis of the data, in addition to the questions mentioned below, should be done."
   ]
  },
  {
   "cell_type": "markdown",
   "id": "a7bf73c3",
   "metadata": {
    "id": "approved-brother"
   },
   "source": [
    "**Questions**\n",
    "1. Leads will have different expectations from the outcome of the course and the current occupation may play a key role in getting them to participate in the program. Find out how current occupation affects lead status.\n",
    "2. The company's first impression on the customer must have an impact. Do the first channels of interaction have an impact on the lead status? \n",
    "3. The company uses multiple modes to interact with prospects. Which way of interaction works best? \n",
    "4. The company gets leads from various channels such as print media, digital media, referrals, etc. Which of these channels have the highest lead conversion rate?\n",
    "5. People browsing the website or mobile application are generally required to create a profile by sharing their personal data before they can access additional information.Does having more details about a prospect increase the chances of conversion?"
   ]
  },
  {
   "cell_type": "code",
   "execution_count": 9,
   "id": "de897277",
   "metadata": {
    "id": "increasing-louisiana"
   },
   "outputs": [],
   "source": [
    "num_vars = ['age','website_visits', 'time_spent_on_website', 'page_views_per_visit']\n",
    "cat_vars = ['current_occupation', 'first_interaction', 'profile_completed', 'last_activity', 'print_media_type1', \n",
    "           'print_media_type2', 'digital_media', 'educational_channels', 'referral']\n",
    "target = ['status']"
   ]
  },
  {
   "cell_type": "code",
   "execution_count": 10,
   "id": "8be304fb",
   "metadata": {},
   "outputs": [],
   "source": [
    "df_status_0 = df[df['status'] == 0]\n",
    "df_status_1 = df[df['status'] == 1]"
   ]
  },
  {
   "cell_type": "code",
   "execution_count": 11,
   "id": "0557cbdd",
   "metadata": {
    "scrolled": true
   },
   "outputs": [
    {
     "data": {
      "image/png": "[encoded data removed]",
      "text/plain": [
       "<Figure size 720x432 with 2 Axes>"
      ]
     },
     "metadata": {},
     "output_type": "display_data"
    },
    {
     "data": {
      "image/png": "[encoded data removed]",
      "text/plain": [
       "<Figure size 720x432 with 2 Axes>"
      ]
     },
     "metadata": {},
     "output_type": "display_data"
    },
    {
     "data": {
      "image/png": "[encoded data removed]",
      "text/plain": [
       "<Figure size 720x432 with 2 Axes>"
      ]
     },
     "metadata": {},
     "output_type": "display_data"
    },
    {
     "data": {
      "image/png": "[encoded data removed]",
      "text/plain": [
       "<Figure size 720x432 with 2 Axes>"
      ]
     },
     "metadata": {},
     "output_type": "display_data"
    }
   ],
   "source": [
    "### univariate analysis of numerical variables\n",
    "# the red line indicates the mean\n",
    "for i in num_vars:\n",
    "    fig = plt.figure(figsize=(10,6))\n",
    "    fig.set_facecolor('white')\n",
    "    ax1 = fig.add_subplot(211)\n",
    "    ax2 = fig.add_subplot(212)\n",
    "    sns.histplot(data=df, x=i, ax=ax1)\n",
    "    sns.boxplot(data=df, x=i, ax=ax2)\n",
    "    ax1.axvline(df[i].mean(), color='red')\n",
    "    ax2.axvline(df[i].mean(), color='red')"
   ]
  },
  {
   "cell_type": "code",
   "execution_count": 12,
   "id": "3281188f",
   "metadata": {
    "scrolled": true
   },
   "outputs": [
    {
     "name": "stdout",
     "output_type": "stream",
     "text": [
      "status\n",
      "0         0.701431\n",
      "1         0.298569\n",
      "dtype: float64\n",
      "\n",
      "Professional    0.567216\n",
      "Unemployed      0.312446\n",
      "Student         0.120338\n",
      "Name: current_occupation, dtype: float64\n",
      "\n",
      "Website       0.551171\n",
      "Mobile App    0.448829\n",
      "Name: first_interaction, dtype: float64\n",
      "\n",
      "High      0.490893\n",
      "Medium    0.485906\n",
      "Low       0.023200\n",
      "Name: profile_completed, dtype: float64\n",
      "\n",
      "Email Activity      0.493929\n",
      "Phone Activity      0.267563\n",
      "Website Activity    0.238508\n",
      "Name: last_activity, dtype: float64\n",
      "\n",
      "No     0.892238\n",
      "Yes    0.107762\n",
      "Name: print_media_type1, dtype: float64\n",
      "\n",
      "No     0.94948\n",
      "Yes    0.05052\n",
      "Name: print_media_type2, dtype: float64\n",
      "\n",
      "No     0.885733\n",
      "Yes    0.114267\n",
      "Name: digital_media, dtype: float64\n",
      "\n",
      "No     0.847138\n",
      "Yes    0.152862\n",
      "Name: educational_channels, dtype: float64\n",
      "\n",
      "No     0.979835\n",
      "Yes    0.020165\n",
      "Name: referral, dtype: float64\n",
      "\n"
     ]
    }
   ],
   "source": [
    "### Univariate analysis of categorical variables\n",
    "\n",
    "print(df[target].value_counts(normalize=True))\n",
    "print()\n",
    "\n",
    "for i in cat_vars:\n",
    "    print(df[i].value_counts(normalize=True))\n",
    "    print()\n"
   ]
  },
  {
   "cell_type": "code",
   "execution_count": 13,
   "id": "d4f7a263",
   "metadata": {},
   "outputs": [
    {
     "data": {
      "text/html": [
       "<div>\n",
       "<style scoped>\n",
       "    .dataframe tbody tr th:only-of-type {\n",
       "        vertical-align: middle;\n",
       "    }\n",
       "\n",
       "    .dataframe tbody tr th {\n",
       "        vertical-align: top;\n",
       "    }\n",
       "\n",
       "    .dataframe thead th {\n",
       "        text-align: right;\n",
       "    }\n",
       "</style>\n",
       "<table border=\"1\" class=\"dataframe\">\n",
       "  <thead>\n",
       "    <tr style=\"text-align: right;\">\n",
       "      <th></th>\n",
       "      <th>age</th>\n",
       "      <th>website_visits</th>\n",
       "      <th>time_spent_on_website</th>\n",
       "      <th>page_views_per_visit</th>\n",
       "    </tr>\n",
       "    <tr>\n",
       "      <th>status</th>\n",
       "      <th></th>\n",
       "      <th></th>\n",
       "      <th></th>\n",
       "      <th></th>\n",
       "    </tr>\n",
       "  </thead>\n",
       "  <tbody>\n",
       "    <tr>\n",
       "      <th>0</th>\n",
       "      <td>45.153014</td>\n",
       "      <td>3.578980</td>\n",
       "      <td>577.420711</td>\n",
       "      <td>3.025732</td>\n",
       "    </tr>\n",
       "    <tr>\n",
       "      <th>1</th>\n",
       "      <td>48.663762</td>\n",
       "      <td>3.538126</td>\n",
       "      <td>1068.397967</td>\n",
       "      <td>3.027050</td>\n",
       "    </tr>\n",
       "  </tbody>\n",
       "</table>\n",
       "</div>"
      ],
      "text/plain": [
       "              age  website_visits  time_spent_on_website  page_views_per_visit\n",
       "status                                                                        \n",
       "0       45.153014        3.578980             577.420711              3.025732\n",
       "1       48.663762        3.538126            1068.397967              3.027050"
      ]
     },
     "execution_count": 13,
     "metadata": {},
     "output_type": "execute_result"
    }
   ],
   "source": [
    "### Multivariate analysis of numerical variables\n",
    "# Mean of numerical variables grouped by status\n",
    "\n",
    "df.groupby(['status'])[num_vars].mean()"
   ]
  },
  {
   "cell_type": "markdown",
   "id": "8f26e9e5",
   "metadata": {},
   "source": [
    "Observations\n",
    "- Leads who finally paid (status 1) spent almost double time on website than those who didn't pay (status 0).\n",
    "- However, no significant differences between status 0 and 1 are observed in age, website visits and page views per visit."
   ]
  },
  {
   "cell_type": "code",
   "execution_count": 14,
   "id": "1e2b9dc9",
   "metadata": {
    "scrolled": true
   },
   "outputs": [
    {
     "data": {
      "image/png": "[encoded data removed]",
      "text/plain": [
       "<Figure size 576x288 with 1 Axes>"
      ]
     },
     "metadata": {},
     "output_type": "display_data"
    },
    {
     "data": {
      "image/png": "[encoded data removed]",
      "text/plain": [
       "<Figure size 576x288 with 1 Axes>"
      ]
     },
     "metadata": {},
     "output_type": "display_data"
    },
    {
     "data": {
      "image/png": "[encoded data removed]",
      "text/plain": [
       "<Figure size 576x288 with 1 Axes>"
      ]
     },
     "metadata": {},
     "output_type": "display_data"
    },
    {
     "data": {
      "image/png": "[encoded data removed]",
      "text/plain": [
       "<Figure size 576x288 with 1 Axes>"
      ]
     },
     "metadata": {},
     "output_type": "display_data"
    }
   ],
   "source": [
    "# Distributions of numerical variables grouped by status\n",
    "\n",
    "for i in num_vars:\n",
    "    plt.figure(figsize=(8,4), facecolor='white')\n",
    "    sns.histplot(data=df, x=i, hue='status', legend=True, hue_order=[0,1])\n"
   ]
  },
  {
   "cell_type": "markdown",
   "id": "7652fea0",
   "metadata": {},
   "source": [
    "Observations\n",
    "- The distribution pattern in converted and non-converted leads are similar in age, website visits and page views per visit.\n",
    "- For non-converted leads, there is a much larger proportion that spent less than 500 seconds on website in comparison with converted leads."
   ]
  },
  {
   "cell_type": "code",
   "execution_count": 15,
   "id": "5ecdad1b",
   "metadata": {
    "scrolled": false
   },
   "outputs": [
    {
     "data": {
      "text/plain": [
       "<AxesSubplot:>"
      ]
     },
     "execution_count": 15,
     "metadata": {},
     "output_type": "execute_result"
    },
    {
     "data": {
      "image/png": "[encoded data removed]",
      "text/plain": [
       "<Figure size 720x360 with 2 Axes>"
      ]
     },
     "metadata": {},
     "output_type": "display_data"
    }
   ],
   "source": [
    "# Correlation between numerical variables\n",
    "\n",
    "plt.figure(figsize=(10,5), facecolor='white')\n",
    "sns.heatmap(df.corr(), cmap='Blues', annot=True)"
   ]
  },
  {
   "cell_type": "markdown",
   "id": "44739789",
   "metadata": {},
   "source": [
    "Observations\n",
    "- All numerical variables have low correlation with each other. Therefore, there is low risk of collinearity."
   ]
  },
  {
   "cell_type": "code",
   "execution_count": 16,
   "id": "ff10c1ad",
   "metadata": {},
   "outputs": [
    {
     "data": {
      "image/png": "[encoded data removed]",
      "text/plain": [
       "<Figure size 432x216 with 1 Axes>"
      ]
     },
     "metadata": {},
     "output_type": "display_data"
    },
    {
     "data": {
      "image/png": "[encoded data removed]",
      "text/plain": [
       "<Figure size 432x216 with 1 Axes>"
      ]
     },
     "metadata": {},
     "output_type": "display_data"
    },
    {
     "data": {
      "image/png": "[encoded data removed]",
      "text/plain": [
       "<Figure size 432x216 with 1 Axes>"
      ]
     },
     "metadata": {},
     "output_type": "display_data"
    },
    {
     "data": {
      "image/png": "[encoded data removed]",
      "text/plain": [
       "<Figure size 432x216 with 1 Axes>"
      ]
     },
     "metadata": {},
     "output_type": "display_data"
    },
    {
     "data": {
      "image/png": "[encoded data removed]",
      "text/plain": [
       "<Figure size 432x216 with 1 Axes>"
      ]
     },
     "metadata": {},
     "output_type": "display_data"
    },
    {
     "data": {
      "image/png": "[encoded data removed]",
      "text/plain": [
       "<Figure size 432x216 with 1 Axes>"
      ]
     },
     "metadata": {},
     "output_type": "display_data"
    },
    {
     "data": {
      "image/png": "[encoded data removed]",
      "text/plain": [
       "<Figure size 432x216 with 1 Axes>"
      ]
     },
     "metadata": {},
     "output_type": "display_data"
    },
    {
     "data": {
      "image/png": "[encoded data removed]",
      "text/plain": [
       "<Figure size 432x216 with 1 Axes>"
      ]
     },
     "metadata": {},
     "output_type": "display_data"
    },
    {
     "data": {
      "image/png": "[encoded data removed]",
      "text/plain": [
       "<Figure size 432x216 with 1 Axes>"
      ]
     },
     "metadata": {},
     "output_type": "display_data"
    }
   ],
   "source": [
    "for i in cat_vars:\n",
    "    crosstab = pd.crosstab(df[i], df['status'], normalize='index')*100\n",
    "    fig, ax = plt.subplots(facecolor='white')\n",
    "    crosstab.plot(kind='bar', figsize=(6,3), stacked=True, ax=ax)\n",
    "    plt.ylabel('Paid Customer Percentage %')"
   ]
  },
  {
   "cell_type": "markdown",
   "id": "1dca1898",
   "metadata": {},
   "source": [
    "Observations\n",
    "- There is no obvious difference in the proportion of status 1 grouped by 'print_media_type1', 'print_media_type2', 'digital_media', 'educational_channels'.\n",
    "- Current occupation as professional has the highest rate of paid customer, at about 40%. It is followed by the unemployed. Students has the least conversion rate to paid customer.\n",
    "- Leads whose first interaction is via website have higher conversion rate (approximately 45%) than those via mobile app (about 10%).\n",
    "- The more profile is completed, the higher the conversion rate. \n",
    "- Leads whose last activity is website have the highest conversion rate at 40%. Those with email and phone activity present 30% and 20% conversion rate, respectively.\n",
    "- Referred leads has a ~65% conversion rate, which is much higher than those without reference (30%)."
   ]
  },
  {
   "cell_type": "markdown",
   "id": "1c7f91b5",
   "metadata": {
    "id": "alleged-spirituality"
   },
   "source": [
    "## Data Preprocessing\n",
    "\n",
    "- Missing value treatment (if needed)\n",
    "- Feature engineering (if needed)\n",
    "- Outlier detection and treatment (if needed)\n",
    "- Preparing data for modeling \n",
    "- Any other preprocessing steps (if needed)"
   ]
  },
  {
   "cell_type": "code",
   "execution_count": 17,
   "id": "7429854e",
   "metadata": {},
   "outputs": [
    {
     "data": {
      "text/html": [
       "<div>\n",
       "<style scoped>\n",
       "    .dataframe tbody tr th:only-of-type {\n",
       "        vertical-align: middle;\n",
       "    }\n",
       "\n",
       "    .dataframe tbody tr th {\n",
       "        vertical-align: top;\n",
       "    }\n",
       "\n",
       "    .dataframe thead th {\n",
       "        text-align: right;\n",
       "    }\n",
       "</style>\n",
       "<table border=\"1\" class=\"dataframe\">\n",
       "  <thead>\n",
       "    <tr style=\"text-align: right;\">\n",
       "      <th></th>\n",
       "      <th>age</th>\n",
       "      <th>current_occupation</th>\n",
       "      <th>first_interaction</th>\n",
       "      <th>profile_completed</th>\n",
       "      <th>website_visits</th>\n",
       "      <th>time_spent_on_website</th>\n",
       "      <th>page_views_per_visit</th>\n",
       "      <th>last_activity</th>\n",
       "      <th>referral</th>\n",
       "      <th>status</th>\n",
       "    </tr>\n",
       "  </thead>\n",
       "  <tbody>\n",
       "    <tr>\n",
       "      <th>0</th>\n",
       "      <td>57</td>\n",
       "      <td>Unemployed</td>\n",
       "      <td>Website</td>\n",
       "      <td>High</td>\n",
       "      <td>7</td>\n",
       "      <td>1639</td>\n",
       "      <td>1.861</td>\n",
       "      <td>Website Activity</td>\n",
       "      <td>No</td>\n",
       "      <td>1</td>\n",
       "    </tr>\n",
       "    <tr>\n",
       "      <th>1</th>\n",
       "      <td>56</td>\n",
       "      <td>Professional</td>\n",
       "      <td>Mobile App</td>\n",
       "      <td>Medium</td>\n",
       "      <td>2</td>\n",
       "      <td>83</td>\n",
       "      <td>0.320</td>\n",
       "      <td>Website Activity</td>\n",
       "      <td>No</td>\n",
       "      <td>0</td>\n",
       "    </tr>\n",
       "    <tr>\n",
       "      <th>2</th>\n",
       "      <td>52</td>\n",
       "      <td>Professional</td>\n",
       "      <td>Website</td>\n",
       "      <td>Medium</td>\n",
       "      <td>3</td>\n",
       "      <td>330</td>\n",
       "      <td>0.074</td>\n",
       "      <td>Website Activity</td>\n",
       "      <td>No</td>\n",
       "      <td>0</td>\n",
       "    </tr>\n",
       "    <tr>\n",
       "      <th>3</th>\n",
       "      <td>53</td>\n",
       "      <td>Unemployed</td>\n",
       "      <td>Website</td>\n",
       "      <td>High</td>\n",
       "      <td>4</td>\n",
       "      <td>464</td>\n",
       "      <td>2.057</td>\n",
       "      <td>Website Activity</td>\n",
       "      <td>No</td>\n",
       "      <td>1</td>\n",
       "    </tr>\n",
       "    <tr>\n",
       "      <th>4</th>\n",
       "      <td>23</td>\n",
       "      <td>Student</td>\n",
       "      <td>Website</td>\n",
       "      <td>High</td>\n",
       "      <td>4</td>\n",
       "      <td>600</td>\n",
       "      <td>16.914</td>\n",
       "      <td>Email Activity</td>\n",
       "      <td>No</td>\n",
       "      <td>0</td>\n",
       "    </tr>\n",
       "    <tr>\n",
       "      <th>...</th>\n",
       "      <td>...</td>\n",
       "      <td>...</td>\n",
       "      <td>...</td>\n",
       "      <td>...</td>\n",
       "      <td>...</td>\n",
       "      <td>...</td>\n",
       "      <td>...</td>\n",
       "      <td>...</td>\n",
       "      <td>...</td>\n",
       "      <td>...</td>\n",
       "    </tr>\n",
       "    <tr>\n",
       "      <th>4607</th>\n",
       "      <td>35</td>\n",
       "      <td>Unemployed</td>\n",
       "      <td>Mobile App</td>\n",
       "      <td>Medium</td>\n",
       "      <td>15</td>\n",
       "      <td>360</td>\n",
       "      <td>2.170</td>\n",
       "      <td>Phone Activity</td>\n",
       "      <td>No</td>\n",
       "      <td>0</td>\n",
       "    </tr>\n",
       "    <tr>\n",
       "      <th>4608</th>\n",
       "      <td>55</td>\n",
       "      <td>Professional</td>\n",
       "      <td>Mobile App</td>\n",
       "      <td>Medium</td>\n",
       "      <td>8</td>\n",
       "      <td>2327</td>\n",
       "      <td>5.393</td>\n",
       "      <td>Email Activity</td>\n",
       "      <td>No</td>\n",
       "      <td>0</td>\n",
       "    </tr>\n",
       "    <tr>\n",
       "      <th>4609</th>\n",
       "      <td>58</td>\n",
       "      <td>Professional</td>\n",
       "      <td>Website</td>\n",
       "      <td>High</td>\n",
       "      <td>2</td>\n",
       "      <td>212</td>\n",
       "      <td>2.692</td>\n",
       "      <td>Email Activity</td>\n",
       "      <td>No</td>\n",
       "      <td>1</td>\n",
       "    </tr>\n",
       "    <tr>\n",
       "      <th>4610</th>\n",
       "      <td>57</td>\n",
       "      <td>Professional</td>\n",
       "      <td>Mobile App</td>\n",
       "      <td>Medium</td>\n",
       "      <td>1</td>\n",
       "      <td>154</td>\n",
       "      <td>3.879</td>\n",
       "      <td>Website Activity</td>\n",
       "      <td>No</td>\n",
       "      <td>0</td>\n",
       "    </tr>\n",
       "    <tr>\n",
       "      <th>4611</th>\n",
       "      <td>55</td>\n",
       "      <td>Professional</td>\n",
       "      <td>Website</td>\n",
       "      <td>Medium</td>\n",
       "      <td>4</td>\n",
       "      <td>2290</td>\n",
       "      <td>2.075</td>\n",
       "      <td>Phone Activity</td>\n",
       "      <td>No</td>\n",
       "      <td>0</td>\n",
       "    </tr>\n",
       "  </tbody>\n",
       "</table>\n",
       "<p>4612 rows × 10 columns</p>\n",
       "</div>"
      ],
      "text/plain": [
       "      age current_occupation first_interaction profile_completed  \\\n",
       "0      57         Unemployed           Website              High   \n",
       "1      56       Professional        Mobile App            Medium   \n",
       "2      52       Professional           Website            Medium   \n",
       "3      53         Unemployed           Website              High   \n",
       "4      23            Student           Website              High   \n",
       "...   ...                ...               ...               ...   \n",
       "4607   35         Unemployed        Mobile App            Medium   \n",
       "4608   55       Professional        Mobile App            Medium   \n",
       "4609   58       Professional           Website              High   \n",
       "4610   57       Professional        Mobile App            Medium   \n",
       "4611   55       Professional           Website            Medium   \n",
       "\n",
       "      website_visits  time_spent_on_website  page_views_per_visit  \\\n",
       "0                  7                   1639                 1.861   \n",
       "1                  2                     83                 0.320   \n",
       "2                  3                    330                 0.074   \n",
       "3                  4                    464                 2.057   \n",
       "4                  4                    600                16.914   \n",
       "...              ...                    ...                   ...   \n",
       "4607              15                    360                 2.170   \n",
       "4608               8                   2327                 5.393   \n",
       "4609               2                    212                 2.692   \n",
       "4610               1                    154                 3.879   \n",
       "4611               4                   2290                 2.075   \n",
       "\n",
       "         last_activity referral  status  \n",
       "0     Website Activity       No       1  \n",
       "1     Website Activity       No       0  \n",
       "2     Website Activity       No       0  \n",
       "3     Website Activity       No       1  \n",
       "4       Email Activity       No       0  \n",
       "...                ...      ...     ...  \n",
       "4607    Phone Activity       No       0  \n",
       "4608    Email Activity       No       0  \n",
       "4609    Email Activity       No       1  \n",
       "4610  Website Activity       No       0  \n",
       "4611    Phone Activity       No       0  \n",
       "\n",
       "[4612 rows x 10 columns]"
      ]
     },
     "execution_count": 17,
     "metadata": {},
     "output_type": "execute_result"
    }
   ],
   "source": [
    "# Dropping the following columns because there is no obvious difference between status 0 and 1 in these columns.\n",
    "\n",
    "df = df.drop(['print_media_type1', 'print_media_type2', 'digital_media', 'educational_channels', ], axis=1)\n",
    "df"
   ]
  },
  {
   "cell_type": "code",
   "execution_count": 18,
   "id": "db209b33",
   "metadata": {},
   "outputs": [
    {
     "data": {
      "text/html": [
       "<div>\n",
       "<style scoped>\n",
       "    .dataframe tbody tr th:only-of-type {\n",
       "        vertical-align: middle;\n",
       "    }\n",
       "\n",
       "    .dataframe tbody tr th {\n",
       "        vertical-align: top;\n",
       "    }\n",
       "\n",
       "    .dataframe thead th {\n",
       "        text-align: right;\n",
       "    }\n",
       "</style>\n",
       "<table border=\"1\" class=\"dataframe\">\n",
       "  <thead>\n",
       "    <tr style=\"text-align: right;\">\n",
       "      <th></th>\n",
       "      <th>age</th>\n",
       "      <th>first_interaction</th>\n",
       "      <th>profile_completed</th>\n",
       "      <th>website_visits</th>\n",
       "      <th>time_spent_on_website</th>\n",
       "      <th>page_views_per_visit</th>\n",
       "      <th>referral</th>\n",
       "      <th>status</th>\n",
       "      <th>current_occupation_Professional</th>\n",
       "      <th>current_occupation_Student</th>\n",
       "      <th>current_occupation_Unemployed</th>\n",
       "      <th>last_activity_Email Activity</th>\n",
       "      <th>last_activity_Phone Activity</th>\n",
       "      <th>last_activity_Website Activity</th>\n",
       "    </tr>\n",
       "  </thead>\n",
       "  <tbody>\n",
       "    <tr>\n",
       "      <th>0</th>\n",
       "      <td>57</td>\n",
       "      <td>1</td>\n",
       "      <td>3</td>\n",
       "      <td>7</td>\n",
       "      <td>1639</td>\n",
       "      <td>1.861</td>\n",
       "      <td>0</td>\n",
       "      <td>1</td>\n",
       "      <td>0</td>\n",
       "      <td>0</td>\n",
       "      <td>1</td>\n",
       "      <td>0</td>\n",
       "      <td>0</td>\n",
       "      <td>1</td>\n",
       "    </tr>\n",
       "    <tr>\n",
       "      <th>1</th>\n",
       "      <td>56</td>\n",
       "      <td>0</td>\n",
       "      <td>2</td>\n",
       "      <td>2</td>\n",
       "      <td>83</td>\n",
       "      <td>0.320</td>\n",
       "      <td>0</td>\n",
       "      <td>0</td>\n",
       "      <td>1</td>\n",
       "      <td>0</td>\n",
       "      <td>0</td>\n",
       "      <td>0</td>\n",
       "      <td>0</td>\n",
       "      <td>1</td>\n",
       "    </tr>\n",
       "    <tr>\n",
       "      <th>2</th>\n",
       "      <td>52</td>\n",
       "      <td>1</td>\n",
       "      <td>2</td>\n",
       "      <td>3</td>\n",
       "      <td>330</td>\n",
       "      <td>0.074</td>\n",
       "      <td>0</td>\n",
       "      <td>0</td>\n",
       "      <td>1</td>\n",
       "      <td>0</td>\n",
       "      <td>0</td>\n",
       "      <td>0</td>\n",
       "      <td>0</td>\n",
       "      <td>1</td>\n",
       "    </tr>\n",
       "    <tr>\n",
       "      <th>3</th>\n",
       "      <td>53</td>\n",
       "      <td>1</td>\n",
       "      <td>3</td>\n",
       "      <td>4</td>\n",
       "      <td>464</td>\n",
       "      <td>2.057</td>\n",
       "      <td>0</td>\n",
       "      <td>1</td>\n",
       "      <td>0</td>\n",
       "      <td>0</td>\n",
       "      <td>1</td>\n",
       "      <td>0</td>\n",
       "      <td>0</td>\n",
       "      <td>1</td>\n",
       "    </tr>\n",
       "    <tr>\n",
       "      <th>4</th>\n",
       "      <td>23</td>\n",
       "      <td>1</td>\n",
       "      <td>3</td>\n",
       "      <td>4</td>\n",
       "      <td>600</td>\n",
       "      <td>16.914</td>\n",
       "      <td>0</td>\n",
       "      <td>0</td>\n",
       "      <td>0</td>\n",
       "      <td>1</td>\n",
       "      <td>0</td>\n",
       "      <td>1</td>\n",
       "      <td>0</td>\n",
       "      <td>0</td>\n",
       "    </tr>\n",
       "  </tbody>\n",
       "</table>\n",
       "</div>"
      ],
      "text/plain": [
       "   age  first_interaction  profile_completed  website_visits  \\\n",
       "0   57                  1                  3               7   \n",
       "1   56                  0                  2               2   \n",
       "2   52                  1                  2               3   \n",
       "3   53                  1                  3               4   \n",
       "4   23                  1                  3               4   \n",
       "\n",
       "   time_spent_on_website  page_views_per_visit  referral  status  \\\n",
       "0                   1639                 1.861         0       1   \n",
       "1                     83                 0.320         0       0   \n",
       "2                    330                 0.074         0       0   \n",
       "3                    464                 2.057         0       1   \n",
       "4                    600                16.914         0       0   \n",
       "\n",
       "   current_occupation_Professional  current_occupation_Student  \\\n",
       "0                                0                           0   \n",
       "1                                1                           0   \n",
       "2                                1                           0   \n",
       "3                                0                           0   \n",
       "4                                0                           1   \n",
       "\n",
       "   current_occupation_Unemployed  last_activity_Email Activity  \\\n",
       "0                              1                             0   \n",
       "1                              0                             0   \n",
       "2                              0                             0   \n",
       "3                              1                             0   \n",
       "4                              0                             1   \n",
       "\n",
       "   last_activity_Phone Activity  last_activity_Website Activity  \n",
       "0                             0                               1  \n",
       "1                             0                               1  \n",
       "2                             0                               1  \n",
       "3                             0                               1  \n",
       "4                             0                               0  "
      ]
     },
     "execution_count": 18,
     "metadata": {},
     "output_type": "execute_result"
    }
   ],
   "source": [
    "# Replacing 'No' and 'Yes' with 0 and 1\n",
    "# Replacing 'Mobile App' and 'Website' with 0 and 1 in the first activity column\n",
    "# One-hot encoding for non-ordinal categorical variables\n",
    "# Label encoding for ordinal categorical variables\n",
    "\n",
    "df = df.replace({'No': 0, 'Yes': 1}) \n",
    "df = df.replace({'Mobile App': 0, 'Website': 1})\n",
    "df = pd.get_dummies(data=df, columns=['current_occupation', 'last_activity'])\n",
    "df['profile_completed'] = df['profile_completed'].replace({'Low': 1, 'Medium': 2, 'High': 3})\n",
    "\n",
    "df.head()"
   ]
  },
  {
   "cell_type": "code",
   "execution_count": 19,
   "id": "83229e58",
   "metadata": {},
   "outputs": [],
   "source": [
    "X = df.drop('status', axis=1)\n",
    "Y = df['status']"
   ]
  },
  {
   "cell_type": "code",
   "execution_count": 20,
   "id": "14a5222c",
   "metadata": {},
   "outputs": [],
   "source": [
    "X_train, X_test, Y_train, Y_test = train_test_split(X, Y, test_size=0.2, random_state=0, stratify=Y)"
   ]
  },
  {
   "cell_type": "code",
   "execution_count": 21,
   "id": "60509f6c",
   "metadata": {},
   "outputs": [],
   "source": [
    "# scaling the data for outlier management\n",
    "\n",
    "sc = StandardScaler()\n",
    "X_train = sc.fit_transform(X_train)\n",
    "X_train = pd.DataFrame(X_train, columns=X.columns)\n",
    "\n",
    "X_test = sc.transform(X_test)\n",
    "X_test = pd.DataFrame(X_test, columns=X.columns)"
   ]
  },
  {
   "cell_type": "markdown",
   "id": "2bc762dd",
   "metadata": {},
   "source": [
    "- The recall is the most important metrics for us because we want to find and nurture these leads and tries to convert them to paid customers.\n",
    "- There are only few disadvantages if we wrongly classify those who will actually not pay into the paid group (ie. status 1), such as fruitless call or email."
   ]
  },
  {
   "cell_type": "markdown",
   "id": "820129a0",
   "metadata": {
    "id": "amazing-fluid"
   },
   "source": [
    "## Building a Decision Tree model"
   ]
  },
  {
   "cell_type": "code",
   "execution_count": 22,
   "id": "eb3d172a",
   "metadata": {
    "id": "neither-hydrogen"
   },
   "outputs": [
    {
     "data": {
      "text/plain": [
       "DecisionTreeClassifier(class_weight={0: 0.29856895056374677,\n",
       "                                     1: 0.7014310494362532},\n",
       "                       random_state=97)"
      ]
     },
     "execution_count": 22,
     "metadata": {},
     "output_type": "execute_result"
    }
   ],
   "source": [
    "# Building a decision tree model\n",
    "# Classes were weighted inversely by the frequency\n",
    "\n",
    "tree = DecisionTreeClassifier(class_weight = {0: 1-df[target].value_counts(normalize=True)[0], 1: df[target].value_counts(normalize=True)[0]}, random_state=97)\n",
    "tree.fit(X_train, Y_train)"
   ]
  },
  {
   "cell_type": "code",
   "execution_count": 23,
   "id": "c0aac372",
   "metadata": {},
   "outputs": [
    {
     "name": "stdout",
     "output_type": "stream",
     "text": [
      "Decision Tree Performance of Training Data:\n",
      "\n",
      "               precision    recall  f1-score   support\n",
      "\n",
      "           0       1.00      1.00      1.00      2588\n",
      "           1       1.00      1.00      1.00      1101\n",
      "\n",
      "    accuracy                           1.00      3689\n",
      "   macro avg       1.00      1.00      1.00      3689\n",
      "weighted avg       1.00      1.00      1.00      3689\n",
      "\n",
      "****************************************************************************************************\n",
      "Decision Tree Performance of Testing Data:\n",
      "\n",
      "               precision    recall  f1-score   support\n",
      "\n",
      "           0       0.86      0.86      0.86       647\n",
      "           1       0.67      0.68      0.68       276\n",
      "\n",
      "    accuracy                           0.80       923\n",
      "   macro avg       0.77      0.77      0.77       923\n",
      "weighted avg       0.80      0.80      0.80       923\n",
      "\n"
     ]
    }
   ],
   "source": [
    "print('Decision Tree Performance of Training Data:\\n\\n', classification_report(Y_train, tree.predict(X_train)))\n",
    "print('*'*100)\n",
    "print('Decision Tree Performance of Testing Data:\\n\\n', classification_report(Y_test, tree.predict(X_test)))"
   ]
  },
  {
   "cell_type": "markdown",
   "id": "b614d049",
   "metadata": {},
   "source": [
    "Observations\n",
    "\n",
    "- The decision tree model showed a recall score of 1.00 for status 1 based on the training data but 0.68 on the testing data, indicating overfitting."
   ]
  },
  {
   "cell_type": "markdown",
   "id": "32c557d4",
   "metadata": {
    "id": "limited-strengthening"
   },
   "source": [
    "## Do we need to prune the tree?"
   ]
  },
  {
   "cell_type": "code",
   "execution_count": 24,
   "id": "5d3bfa28",
   "metadata": {
    "id": "ambient-elements"
   },
   "outputs": [
    {
     "data": {
      "text/plain": [
       "DecisionTreeClassifier(class_weight={0: 0.29856895056374677,\n",
       "                                     1: 0.7014310494362532},\n",
       "                       criterion='entropy', max_depth=3, random_state=98)"
      ]
     },
     "execution_count": 24,
     "metadata": {},
     "output_type": "execute_result"
    }
   ],
   "source": [
    "# Using GridSearchCV to tune the hyperparameter to reduce overfitting (increase recall score on testing data)\n",
    "\n",
    "tree_estimator = DecisionTreeClassifier(class_weight = {0: 1-df[target].value_counts(normalize=True)[0], 1: df[target].value_counts(normalize=True)[0]}, random_state=98)\n",
    "params_tree = {'criterion': ['gini', 'entropy', 'log_loss'],\n",
    "               'max_depth': np.arange(1,8),\n",
    "               'min_samples_leaf': np.arange(1, 21)}\n",
    "\n",
    "scorer = metrics.make_scorer(metrics.recall_score, pos_label = 1)\n",
    "\n",
    "GSCV_tree = GridSearchCV(estimator=tree_estimator, param_grid=params_tree, scoring=scorer, cv=10)\n",
    "GSCV_tree = GSCV_tree.fit(X_train, Y_train)\n",
    "\n",
    "tree_tuned = GSCV_tree.best_estimator_\n",
    "tree_tuned.fit(X_train, Y_train)"
   ]
  },
  {
   "cell_type": "code",
   "execution_count": 25,
   "id": "a1ddb15e",
   "metadata": {},
   "outputs": [
    {
     "name": "stdout",
     "output_type": "stream",
     "text": [
      "Decision Tree Performance of Training Data After Hyperparameter Tuning:\n",
      "\n",
      "               precision    recall  f1-score   support\n",
      "\n",
      "           0       0.94      0.76      0.84      2588\n",
      "           1       0.61      0.89      0.73      1101\n",
      "\n",
      "    accuracy                           0.80      3689\n",
      "   macro avg       0.78      0.83      0.78      3689\n",
      "weighted avg       0.85      0.80      0.81      3689\n",
      "\n",
      "****************************************************************************************************\n",
      "Decision Tree Performance of Testing Data After Hyperparameter Tuning:\n",
      "\n",
      "               precision    recall  f1-score   support\n",
      "\n",
      "           0       0.94      0.74      0.83       647\n",
      "           1       0.59      0.90      0.72       276\n",
      "\n",
      "    accuracy                           0.79       923\n",
      "   macro avg       0.77      0.82      0.77       923\n",
      "weighted avg       0.84      0.79      0.80       923\n",
      "\n"
     ]
    }
   ],
   "source": [
    "print('Decision Tree Performance of Training Data After Hyperparameter Tuning:\\n\\n', classification_report(Y_train, tree_tuned.predict(X_train)))\n",
    "print('*'*100)\n",
    "print('Decision Tree Performance of Testing Data After Hyperparameter Tuning:\\n\\n', classification_report(Y_test, tree_tuned.predict(X_test)))"
   ]
  },
  {
   "cell_type": "markdown",
   "id": "7e284154",
   "metadata": {},
   "source": [
    "Observations\n",
    "\n",
    "- The tuned decision tree model showed a reduced recall score of 0.89 for status 1 based on the training data but an imporved recall of 0.90 on the testing data. The overfitting was resolved."
   ]
  },
  {
   "cell_type": "code",
   "execution_count": 26,
   "id": "cfe8348b",
   "metadata": {},
   "outputs": [
    {
     "data": {
      "text/plain": [
       "<AxesSubplot:xlabel='Importance'>"
      ]
     },
     "execution_count": 26,
     "metadata": {},
     "output_type": "execute_result"
    },
    {
     "data": {
      "image/png": "[encoded data removed]",
      "text/plain": [
       "<Figure size 432x288 with 1 Axes>"
      ]
     },
     "metadata": {},
     "output_type": "display_data"
    }
   ],
   "source": [
    "# Plot the feature importances\n",
    "\n",
    "importances = tree_tuned.feature_importances_\n",
    "importance_df = pd.DataFrame(importances, index = X.columns, columns = ['Importance']).sort_values(by = 'Importance', ascending = False)\n",
    "\n",
    "plt.figure(figsize = (6, 4), facecolor='white')\n",
    "sns.barplot(x=importance_df['Importance'], y=importance_df.index)"
   ]
  },
  {
   "cell_type": "markdown",
   "id": "6ac30883",
   "metadata": {},
   "source": [
    "Observations\n",
    "\n",
    "- According to the tuned decision tree model, time spent on website, first interaction method and profile completed are the most important features to predict whether a lead will finally pay.\n",
    "- Phone and website as the last activity and age have minor importance.\n",
    "- Other features shows no importance in prediction."
   ]
  },
  {
   "cell_type": "markdown",
   "id": "1f033b74",
   "metadata": {
    "id": "amazing-fluid"
   },
   "source": [
    "## Building a Random Forest model"
   ]
  },
  {
   "cell_type": "code",
   "execution_count": 27,
   "id": "37acb186",
   "metadata": {},
   "outputs": [
    {
     "data": {
      "text/plain": [
       "RandomForestClassifier(class_weight={0: 0.29856895056374677,\n",
       "                                     1: 0.7014310494362532},\n",
       "                       random_state=99)"
      ]
     },
     "execution_count": 27,
     "metadata": {},
     "output_type": "execute_result"
    }
   ],
   "source": [
    "# Building a random forest model\n",
    "# Classes were weighted inversely by the frequency\n",
    "rf = RandomForestClassifier(class_weight = {0: 1-df[target].value_counts(normalize=True)[0], 1: df[target].value_counts(normalize=True)[0]}, random_state=99)\n",
    "rf.fit(X_train, Y_train)"
   ]
  },
  {
   "cell_type": "code",
   "execution_count": 28,
   "id": "16aaa8d8",
   "metadata": {},
   "outputs": [
    {
     "name": "stdout",
     "output_type": "stream",
     "text": [
      "Random Forest Performance of Training Data:\n",
      "\n",
      "               precision    recall  f1-score   support\n",
      "\n",
      "           0       1.00      1.00      1.00      2588\n",
      "           1       1.00      1.00      1.00      1101\n",
      "\n",
      "    accuracy                           1.00      3689\n",
      "   macro avg       1.00      1.00      1.00      3689\n",
      "weighted avg       1.00      1.00      1.00      3689\n",
      "\n",
      "****************************************************************************************************\n",
      "Random Forest Performance of Testing Data:\n",
      "\n",
      "               precision    recall  f1-score   support\n",
      "\n",
      "           0       0.86      0.91      0.89       647\n",
      "           1       0.77      0.66      0.71       276\n",
      "\n",
      "    accuracy                           0.84       923\n",
      "   macro avg       0.82      0.79      0.80       923\n",
      "weighted avg       0.83      0.84      0.83       923\n",
      "\n"
     ]
    }
   ],
   "source": [
    "print('Random Forest Performance of Training Data:\\n\\n', classification_report(Y_train, rf.predict(X_train)))\n",
    "print('*'*100)\n",
    "print('Random Forest Performance of Testing Data:\\n\\n', classification_report(Y_test, rf.predict(X_test)))"
   ]
  },
  {
   "cell_type": "markdown",
   "id": "4c04d340",
   "metadata": {},
   "source": [
    "Observations\n",
    "- The random forest model showed a recall score of 1.00 for status 1 based on the training data but 0.66 on the testing data, indicating considerable overfitting."
   ]
  },
  {
   "cell_type": "markdown",
   "id": "78a503e3",
   "metadata": {},
   "source": [
    "## Do we need to prune the tree?"
   ]
  },
  {
   "cell_type": "code",
   "execution_count": 29,
   "id": "34e103b7",
   "metadata": {},
   "outputs": [
    {
     "data": {
      "text/plain": [
       "RandomForestClassifier(class_weight={0: 0.29856895056374677,\n",
       "                                     1: 0.7014310494362532},\n",
       "                       max_features=0.3, min_samples_leaf=3, n_estimators=150,\n",
       "                       random_state=100)"
      ]
     },
     "execution_count": 29,
     "metadata": {},
     "output_type": "execute_result"
    }
   ],
   "source": [
    "# Using GridSearchCV to tune the hyperparameter to reduce overfitting (increase recall score on testing data)\n",
    "\n",
    "rf_estimator = RandomForestClassifier(class_weight = {0: 1-df[target].value_counts(normalize=True)[0], 1: df[target].value_counts(normalize=True)[0]}, random_state=100)\n",
    "params_rf = {'n_estimators': [100, 150, 200],\n",
    "             'min_samples_leaf': np.arange(1, 4, 1),\n",
    "             'max_features': np.arange(0.3, 1.0, 0.2)}\n",
    "\n",
    "scorer = metrics.make_scorer(metrics.recall_score, pos_label = 1)\n",
    "\n",
    "GSCV_rf = GridSearchCV(estimator=rf_estimator, param_grid=params_rf, scoring=scorer, cv=10)\n",
    "GSCV_rf = GSCV_rf.fit(X_train, Y_train)\n",
    "\n",
    "rf_tuned = GSCV_rf.best_estimator_\n",
    "rf_tuned.fit(X_train, Y_train)"
   ]
  },
  {
   "cell_type": "code",
   "execution_count": 30,
   "id": "525e2e21",
   "metadata": {},
   "outputs": [
    {
     "name": "stdout",
     "output_type": "stream",
     "text": [
      "Random Forest Performance of Training Data after Hyperparameter Tuning:\n",
      "\n",
      "               precision    recall  f1-score   support\n",
      "\n",
      "           0       0.96      0.93      0.95      2588\n",
      "           1       0.85      0.92      0.88      1101\n",
      "\n",
      "    accuracy                           0.93      3689\n",
      "   macro avg       0.91      0.93      0.92      3689\n",
      "weighted avg       0.93      0.93      0.93      3689\n",
      "\n",
      "****************************************************************************************************\n",
      "Random Forest Performance of Testing Data after Hyperparameter Tuning:\n",
      "\n",
      "               precision    recall  f1-score   support\n",
      "\n",
      "           0       0.90      0.88      0.89       647\n",
      "           1       0.73      0.76      0.75       276\n",
      "\n",
      "    accuracy                           0.85       923\n",
      "   macro avg       0.81      0.82      0.82       923\n",
      "weighted avg       0.85      0.85      0.85       923\n",
      "\n"
     ]
    }
   ],
   "source": [
    "print('Random Forest Performance of Training Data after Hyperparameter Tuning:\\n\\n', classification_report(Y_train, rf_tuned.predict(X_train)))\n",
    "print('*'*100)\n",
    "print('Random Forest Performance of Testing Data after Hyperparameter Tuning:\\n\\n', classification_report(Y_test, rf_tuned.predict(X_test)))"
   ]
  },
  {
   "cell_type": "markdown",
   "id": "7ebc080c",
   "metadata": {},
   "source": [
    "Observations\n",
    "- The tuned random forest model showed a reduced recall score of 0.92 for status 1 based on the training data but an imporved recall of 0.76 on the testing data. The overfitting was mitigated but still exist."
   ]
  },
  {
   "cell_type": "code",
   "execution_count": 31,
   "id": "5f731bf3",
   "metadata": {},
   "outputs": [
    {
     "data": {
      "text/plain": [
       "<AxesSubplot:xlabel='Importance'>"
      ]
     },
     "execution_count": 31,
     "metadata": {},
     "output_type": "execute_result"
    },
    {
     "data": {
      "image/png": "[encoded data removed]",
      "text/plain": [
       "<Figure size 432x288 with 1 Axes>"
      ]
     },
     "metadata": {},
     "output_type": "display_data"
    }
   ],
   "source": [
    "# Plot the feature importances\n",
    "\n",
    "importances = rf_tuned.feature_importances_\n",
    "importance_df = pd.DataFrame(importances, index = X.columns, columns = ['Importance']).sort_values(by = 'Importance', ascending = False)\n",
    "\n",
    "plt.figure(figsize = (6, 4), facecolor='white')\n",
    "sns.barplot(x=importance_df['Importance'], y=importance_df.index)"
   ]
  },
  {
   "cell_type": "markdown",
   "id": "8070e56b",
   "metadata": {},
   "source": [
    "Obsevations\n",
    "- The feature importance plot shows that time spent on website is the most important feature, followed by profile completed, first interaction website and first interaction mobile app.\n",
    "- Other important features include age and page views per visit."
   ]
  },
  {
   "cell_type": "markdown",
   "id": "2ea6fbd7",
   "metadata": {},
   "source": [
    "Conclusions\n",
    "- The tuned decision tree model seems to perform better than the tuned random forest model, since the recall of the former is 0.90, higher than the one of the latter at 0.76."
   ]
  },
  {
   "cell_type": "markdown",
   "id": "3f9cbcc4",
   "metadata": {
    "id": "nasty-retailer"
   },
   "source": [
    "## Actionable Insights and Recommendations"
   ]
  },
  {
   "cell_type": "markdown",
   "id": "a687d22c",
   "metadata": {
    "id": "amino-prediction"
   },
   "source": [
    "1. Based on both the tuned decision tree model and tunred random forest model, time spent on website is the most important feature to predict whether leads will be converted to paid customers. The more time the leads spent on the website, the more likely they would be converted the paid customers. The startup may try to retain the leads on the website longer with more course detail or interactive Q&A.\n",
    "2. Both the models revealed the second most important feature is first interaction method. If the leads first interacted with the startup via website rather than mobile app, they are much more likely to pay. The company could invest more on social media and website advertising to encourage the leads to click into the website.\n",
    "3. The third most important features that both the models suggested is profile completed. The higher proportion of the profile is completed, the more likely the lead will pay. The organization could encourage the leads to fill in the profile more completely by providing discounts or lottery opportunity. \n",
    "4. However, the causal relationship between these features and whether the leads pay or not requires further investigation because direct manipulation of these variables not necessorily results in the corresponding effect on the leads' status. It is possible that other confounding factors, such as the leads' personal level of interest, may be the real determinant of the features and the final status.\n"
   ]
  }
 ],
 "metadata": {
  "colab": {
   "collapsed_sections": [],
   "name": "ExtraaLearn_Project_Template_Notebook.ipynb",
   "provenance": []
  },
  "kernelspec": {
   "display_name": "Python 3",
   "language": "python",
   "name": "python3"
  },
  "language_info": {
   "codemirror_mode": {
    "name": "ipython",
    "version": 3
   },
   "file_extension": ".py",
   "mimetype": "text/x-python",
   "name": "python",
   "nbconvert_exporter": "python",
   "pygments_lexer": "ipython3",
   "version": "3.7.4"
  }
 },
 "nbformat": 4,
 "nbformat_minor": 5
}
